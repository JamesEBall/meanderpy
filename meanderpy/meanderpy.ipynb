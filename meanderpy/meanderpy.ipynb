{
 "cells": [
  {
   "cell_type": "code",
   "execution_count": 1,
   "metadata": {},
   "outputs": [],
   "source": [
    "import meanderpy as mp\n",
    "import matplotlib.pyplot as plt\n",
    "import numpy as np\n",
    "%matplotlib qt"
   ]
  },
  {
   "cell_type": "code",
   "execution_count": 36,
   "metadata": {},
   "outputs": [
    {
     "data": {
      "text/plain": [
       "<module 'meanderpy' from '/Users/zoltan/Dropbox/Channels/meanderpy/meanderpy/meanderpy.py'>"
      ]
     },
     "execution_count": 36,
     "metadata": {},
     "output_type": "execute_result"
    }
   ],
   "source": [
    "from importlib import reload\n",
    "reload(mp)"
   ]
  },
  {
   "cell_type": "markdown",
   "metadata": {},
   "source": [
    "## Input parameters"
   ]
  },
  {
   "cell_type": "code",
   "execution_count": 37,
   "metadata": {},
   "outputs": [],
   "source": [
    "W = 200.0                    # channel width (m)\n",
    "D = 12.0                     # channel depth (m)\n",
    "pad = 100                    # padding (number of nodepoints along centerline)\n",
    "deltas = 50.0                # sampling distance along centerline\n",
    "nit = 2000                   # number of iterations\n",
    "Cf = 0.022                    # dimensionless Chezy friction factor\n",
    "crdist = 1.5*W               # threshold distance at which cutoffs occur\n",
    "kl = 60.0/(365*24*60*60.0)   # migration rate constant (m/s)\n",
    "kv =  1.0E-11               # vertical slope-dependent erosion rate constant (m/s)\n",
    "dt = 2*0.05*365*24*60*60.0     # time step (s)\n",
    "dens = 1000                  # density of water (kg/m3)\n",
    "saved_ts = 20                # which time steps will be saved\n",
    "n_bends = 30                 # approximate number of bends you want to model\n",
    "Sl = 0.0                     # initial slope (matters more for submarine channels than rivers)\n",
    "t1 = 500                    # time step when incision starts\n",
    "t2 = 700                    # time step when lateral migration starts\n",
    "t3 = 1400                    # time step when aggradation starts\n",
    "aggr_factor = 4e-9           # aggradation factor (m/s, about 0.18 m/year, it kicks in after t3)"
   ]
  },
  {
   "cell_type": "markdown",
   "metadata": {},
   "source": [
    "## Initialize model"
   ]
  },
  {
   "cell_type": "code",
   "execution_count": 38,
   "metadata": {},
   "outputs": [],
   "source": [
    "ch = mp.generate_initial_channel(W,D,Sl,deltas,pad,n_bends) # initialize channel\n",
    "chb = mp.ChannelBelt(channels=[ch],cutoffs=[],cl_times=[0.0],cutoff_times=[]) # create channel belt object"
   ]
  },
  {
   "cell_type": "markdown",
   "metadata": {},
   "source": [
    "## Run simulation"
   ]
  },
  {
   "cell_type": "code",
   "execution_count": 40,
   "metadata": {},
   "outputs": [
    {
     "name": "stderr",
     "output_type": "stream",
     "text": [
      "100%|██████████| 2000/2000 [00:57<00:00, 34.89it/s]\n"
     ]
    }
   ],
   "source": [
    "chb.migrate(nit,saved_ts,deltas,pad,crdist,Cf,kl,kv,dt,dens,t1,t2,t3,aggr_factor) # channel migration\n",
    "fig = chb.plot('strat', 20, 60, chb.cl_times[-1], len(chb.channels)) # plotting"
   ]
  },
  {
   "cell_type": "code",
   "execution_count": 43,
   "metadata": {},
   "outputs": [],
   "source": [
    "fig = chb.plot('morph', 20, 60, chb.cl_times[-1], len(chb.channels)) # plotting"
   ]
  },
  {
   "cell_type": "markdown",
   "metadata": {},
   "source": [
    "## Create movie"
   ]
  },
  {
   "cell_type": "code",
   "execution_count": 44,
   "metadata": {},
   "outputs": [],
   "source": [
    "dirname = '/Users/zoltan/Dropbox/Channels/temp/'\n",
    "chb.create_movie(xmin=10000, xmax=30000, plot_type='strat', filename='movie', dirname=dirname,\n",
    "                 pb_age = 1, ob_age = 20, end_time = chb.cl_times[-1], n_channels = len(chb.channels))"
   ]
  },
  {
   "cell_type": "markdown",
   "metadata": {},
   "source": [
    "## Build 3D fluvial model"
   ]
  },
  {
   "cell_type": "code",
   "execution_count": 45,
   "metadata": {},
   "outputs": [
    {
     "name": "stderr",
     "output_type": "stream",
     "text": [
      "100%|██████████| 101/101 [00:05<00:00, 17.76it/s]\n"
     ]
    }
   ],
   "source": [
    "h_mud = 0.3 # thickness of overbank deposit for each time step\n",
    "dx = 20.0 # gridcell size in meters\n",
    "\n",
    "chb_3d, xmin, xmax, ymin, ymax = chb.build_3d_model('fluvial',h_mud=h_mud,levee_width=800.0,h=12.0,w=W,bth=0.0,\n",
    "                            dcr=10.0,dx=dx,delta_s=deltas,starttime=chb.cl_times[0],endtime=chb.cl_times[-1],\n",
    "                            xmin=0,xmax=0,ymin=0,ymax=0)"
   ]
  },
  {
   "cell_type": "code",
   "execution_count": 47,
   "metadata": {},
   "outputs": [],
   "source": [
    "# create plots\n",
    "fig1,fig2,fig3 = chb_3d.plot_xsection(100, [[0.5,0.25,0],[0.9,0.9,0],[0.5,0.25,0]], 4)"
   ]
  },
  {
   "cell_type": "markdown",
   "metadata": {},
   "source": [
    "## Build 3D submarine channel model"
   ]
  },
  {
   "cell_type": "code",
   "execution_count": 48,
   "metadata": {},
   "outputs": [],
   "source": [
    "W = 200.0                    # channel width (m)\n",
    "D = 12.0                     # channel depth (m)\n",
    "pad = 50                    # padding (number of nodepoints along centerline)\n",
    "deltas = 100.0                # sampling distance along centerline\n",
    "nit = 1500                   # number of iterations\n",
    "Cf = 0.02                    # dimensionless Chezy friction factor\n",
    "crdist = 1.5*W               # threshold distance at which cutoffs occur\n",
    "kl = 60.0/(365*24*60*60.0)   # migration rate constant (m/s)\n",
    "kv =  1.0E-11               # vertical slope-dependent erosion rate constant (m/s)\n",
    "dt = 2*0.05*365*24*60*60.0     # time step (s)\n",
    "dens = 1000                  # density of water (kg/m3)\n",
    "saved_ts = 20                # which time steps will be saved\n",
    "n_bends = 50                 # approximate number of bends you want to model\n",
    "Sl = 0.01                     # initial slope (matters more for submarine channels than rivers)\n",
    "t1 = 500                    # time step when incision starts\n",
    "t2 = 700                    # time step when lateral migration starts\n",
    "t3 = 1000                    # time step when aggradation starts\n",
    "aggr_factor = 4.0          # aggradation factor (it kicks in after t3)"
   ]
  },
  {
   "cell_type": "code",
   "execution_count": 49,
   "metadata": {},
   "outputs": [],
   "source": [
    "ch = mp.generate_initial_channel(W,D,Sl,deltas,pad,n_bends) # initialize channel\n",
    "chb = mp.ChannelBelt(channels=[ch],cutoffs=[],cl_times=[0.0],cutoff_times=[]) # create channel belt object"
   ]
  },
  {
   "cell_type": "code",
   "execution_count": 50,
   "metadata": {},
   "outputs": [
    {
     "name": "stderr",
     "output_type": "stream",
     "text": [
      "100%|██████████| 1500/1500 [00:18<00:00, 81.94it/s] \n"
     ]
    }
   ],
   "source": [
    "chb.migrate(nit,saved_ts,deltas,pad,crdist,Cf,kl,kv,dt,dens,t1,t2,t3,aggr_factor) # channel migration\n",
    "fig = chb.plot('strat',20,60,chb.cl_times[-1],len(chb.channels)) # plotting"
   ]
  },
  {
   "cell_type": "code",
   "execution_count": 51,
   "metadata": {},
   "outputs": [
    {
     "name": "stderr",
     "output_type": "stream",
     "text": [
      "100%|██████████| 56/56 [00:02<00:00, 19.68it/s]\n"
     ]
    }
   ],
   "source": [
    "h_mud = 3.0*np.ones((len(chb.cl_times[20:]),))\n",
    "dx = 15.0\n",
    "\n",
    "chb_3d, xmin, xmax, ymin, ymax = chb.build_3d_model('submarine',h_mud=h_mud,levee_width=5000.0,h=12.0,w=W,bth=6.0,\n",
    "                            dcr=7.0,dx=dx,delta_s=deltas,starttime=chb.cl_times[20],endtime=chb.cl_times[-1],\n",
    "                            xmin=0,xmax=0,ymin=0,ymax=0)\n"
   ]
  },
  {
   "cell_type": "code",
   "execution_count": 52,
   "metadata": {},
   "outputs": [],
   "source": [
    "fig1,fig2,fig3 = chb_3d.plot_xsection(100, [[0.5,0.25,0],[0.9,0.9,0],[0.5,0.25,0]], 10)"
   ]
  }
 ],
 "metadata": {
  "kernelspec": {
   "display_name": "Python 3",
   "language": "python",
   "name": "python3"
  },
  "language_info": {
   "codemirror_mode": {
    "name": "ipython",
    "version": 3
   },
   "file_extension": ".py",
   "mimetype": "text/x-python",
   "name": "python",
   "nbconvert_exporter": "python",
   "pygments_lexer": "ipython3",
   "version": "3.7.3"
  }
 },
 "nbformat": 4,
 "nbformat_minor": 4
}
